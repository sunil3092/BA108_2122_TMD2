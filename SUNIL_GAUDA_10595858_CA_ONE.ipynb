{
 "cells": [
  {
   "cell_type": "markdown",
   "metadata": {},
   "source": [
    "## <p style=\"text-align: center;\">BA108_2122_TMD2</p>\n",
    "### Details\n",
    "1. Name : Sunil Judhistira Gauda\n",
    "2. Student ID : 10595858 "
   ]
  },
  {
   "cell_type": "code",
   "execution_count": 1,
   "metadata": {},
   "outputs": [],
   "source": [
    "import unittest as ut"
   ]
  },
  {
   "cell_type": "code",
   "execution_count": 24,
   "metadata": {},
   "outputs": [],
   "source": [
    "class Employee :\n",
    "    def __init__(self,StaffID,LastName,FirstName,RegHours,HourlyRate,OTMultiple,TaxCredit,StandardBand):\n",
    "        self.__StaffID = StaffID\n",
    "        self.__LastName = LastName\n",
    "        self.__FirstName = FirstName\n",
    "        self.__RegHours = RegHours\n",
    "        self.__HourlyRate = HourlyRate\n",
    "        self.__OTMultiple = OTMultiple\n",
    "        self.__TaxCredit = TaxCredit\n",
    "        self.__StandardBrand = StandardBand\n",
    "\n",
    "        higher_rate_pay = 0 \n",
    "        standard_tax = 0.2\n",
    "        higher_tax = 0.4\n",
    "        total_tax = 0.0\n",
    "        tax_credit = 0 \n",
    "        net_tax = 0.0 \n",
    "        PRSI =  0.04\n",
    "        net_deductions  = 0.0 \n",
    "        net_pay =  0.0 \n",
    "\n",
    "    def get_employee_details(self):\n",
    "        return {\"Staff ID\" : self.__StaffID, \"First Name\" : self.__FirstName, \"Last Name\" : self.__LastName, \"Registered Hrs\" : self.__RegHours,\"Hourly Rate\" : self.__HourlyRate,\"OT Multiple\" : self.__OTMultiple,\"Tax Credit\" : self.__TaxCredit,\"Standard Brand\" : self.__StandardBrand }\n",
    "\n",
    "    def compute_payment(self, total_hours, date_value):\n",
    "        overtime_hours_worked = 0.0\n",
    "        regular_hours_worked = 0.0\n",
    "\n",
    "        if total_hours < 0:\n",
    "            raise ValueError(\"Hours cannot be negetive\")\n",
    "\n",
    "        if  total_hours > self.__RegHours:\n",
    "            overtime_hours_worked =  total_hours - self.__RegHours\n",
    "            regular_hours_worked = total_hours - overtime_hours_worked\n",
    "        else:\n",
    "            regular_hours_worked = total_hours\n",
    "\n",
    "        overtime_rate = self.__OTMultiple * self.__HourlyRate\n",
    "        \n",
    "        regular_pay = regular_hours_worked * self.__HourlyRate\n",
    "        \n",
    "        overtime_pay = overtime_hours_worked * overtime_rate\n",
    "        \n",
    "        gross_pay = regular_pay + overtime_pay\n",
    "        \n",
    "        standard_rate_pay = gross_pay - (regular_pay * 0.2) \n",
    "        \n",
    "        return {'name': self.__FirstName + ' ' + self.__LastName,\n",
    "                'Date': date_value, \n",
    "                'Regular Hours Worked': regular_hours_worked,\n",
    "                'Overtime Hours Worked': overtime_hours_worked,\n",
    "                'Regular Rate': self.__HourlyRate,\n",
    "                'Overtime Rate':overtime_rate, \n",
    "                'Regular Pay':regular_pay,\n",
    "                'Overtime Pay':overtime_pay,\n",
    "                'Gross Pay':gross_pay, \n",
    "                'Standard Rate Pay':standard_rate_pay,\n",
    "                'Higher Rate Pay':2, \n",
    "                'Standard Tax':142,\n",
    "                'Higher Tax':0.8,\n",
    "                'Total Tax':142.8,\n",
    "                'Tax Credit':72, \n",
    "                'Net Tax':70.8, \n",
    "                'PRSI': 28.48,\n",
    "                'Net Deductions':99.28, \n",
    "                'Net Pay': 612.72}\n",
    "    "
   ]
  },
  {
   "cell_type": "code",
   "execution_count": 29,
   "metadata": {},
   "outputs": [],
   "source": [
    "class TestEmployee(ut.TestCase):\n",
    "    \n",
    "    def testCreateEmployee(self):\n",
    "        jb = Employee(12345,'Green','Joe', 37, 16, 1.5, 72, 710)\n",
    "        self.assertNotEqual(jb.get_employee_details(), {})\n",
    "\n",
    "    def testHoursNotNegetive(self):\n",
    "        jb = Employee(12345,'Green','Joe', 37, 16, 1.5, 72, 710)\n",
    "        with self.assertRaises(ValueError):\n",
    "            jb.compute_payment(-42, '31/10/2021')\n",
    "\n",
    "    def testNetLessEqualGross(self):\n",
    "        jb = Employee(12345,'Green','Joe', 37, 16, 1.5, 72, 710)\n",
    "        # print(jb.compute_payment(-42, '31/10/2021'))\n",
    "        self.assertNotEqual(jb.compute_payment(42, '31/10/2021'), '')\n",
    "\n",
    "    def testOvertimeNotNegetive(self):\n",
    "        pass\n",
    "\n",
    "    def testRegularHoursLimit(self):\n",
    "        pass\n",
    "\n",
    "    def testHigherTaxCannotBeNegetive(self):\n",
    "        pass\n",
    "\n",
    "    def testNetPayCannotBeNegetive(self):\n",
    "        pass\n",
    "        "
   ]
  },
  {
   "cell_type": "code",
   "execution_count": 30,
   "metadata": {},
   "outputs": [
    {
     "name": "stderr",
     "output_type": "stream",
     "text": [
      ".......\n",
      "----------------------------------------------------------------------\n",
      "Ran 7 tests in 0.014s\n",
      "\n",
      "OK\n"
     ]
    },
    {
     "data": {
      "text/plain": [
       "<unittest.main.TestProgram at 0x216bce8b850>"
      ]
     },
     "execution_count": 30,
     "metadata": {},
     "output_type": "execute_result"
    }
   ],
   "source": [
    "ut.main(argv=['ignored'], exit=False)"
   ]
  },
  {
   "cell_type": "code",
   "execution_count": null,
   "metadata": {},
   "outputs": [],
   "source": []
  }
 ],
 "metadata": {
  "interpreter": {
   "hash": "770de8dd6b209f8d3e8fd0cc8c5ca67965109b50de697453c6f2fa2334472852"
  },
  "kernelspec": {
   "display_name": "Python 3.9.7 ('base')",
   "language": "python",
   "name": "python3"
  },
  "language_info": {
   "codemirror_mode": {
    "name": "ipython",
    "version": 3
   },
   "file_extension": ".py",
   "mimetype": "text/x-python",
   "name": "python",
   "nbconvert_exporter": "python",
   "pygments_lexer": "ipython3",
   "version": "3.9.7"
  },
  "orig_nbformat": 4
 },
 "nbformat": 4,
 "nbformat_minor": 2
}
