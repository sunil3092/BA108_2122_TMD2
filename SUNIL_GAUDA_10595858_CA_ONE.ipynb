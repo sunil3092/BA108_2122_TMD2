{
 "cells": [
  {
   "cell_type": "markdown",
   "metadata": {},
   "source": [
    "## <p style=\"text-align: center;\">BA108_2122_TMD2</p>\n",
    "### Details\n",
    "1. Name : Sunil Judhistira Gauda\n",
    "2. Student ID : 10595858 "
   ]
  },
  {
   "cell_type": "code",
   "execution_count": 3,
   "metadata": {},
   "outputs": [],
   "source": [
    "import unittest as ut"
   ]
  },
  {
   "cell_type": "code",
   "execution_count": 4,
   "metadata": {},
   "outputs": [],
   "source": [
    "class Employee :\n",
    "    def __init__(self,StaffID,LastName,FirstName,RegHours,HourlyRate,OTMultiple,TaxCredit,StandardBand):\n",
    "        self.__StaffID = StaffID\n",
    "        self.__LastName = LastName\n",
    "        self.__FirstName = FirstName\n",
    "        self.__RegHours = RegHours\n",
    "        self.__HourlyRate = HourlyRate\n",
    "        self.__OTMultiple = OTMultiple\n",
    "        self.__TaxCredit = TaxCredit\n",
    "        self.__StandardBrand = StandardBand\n",
    "\n",
    "    def compute_payment(hrs, date):\n",
    "        pass\n"
   ]
  },
  {
   "cell_type": "code",
   "execution_count": 5,
   "metadata": {},
   "outputs": [],
   "source": [
    "class TestEmployeePay(ut.TestCase):\n",
    "    def createEmployee(self):\n",
    "        pass"
   ]
  },
  {
   "cell_type": "code",
   "execution_count": null,
   "metadata": {},
   "outputs": [],
   "source": []
  }
 ],
 "metadata": {
  "interpreter": {
   "hash": "770de8dd6b209f8d3e8fd0cc8c5ca67965109b50de697453c6f2fa2334472852"
  },
  "kernelspec": {
   "display_name": "Python 3.9.7 ('base')",
   "language": "python",
   "name": "python3"
  },
  "language_info": {
   "codemirror_mode": {
    "name": "ipython",
    "version": 3
   },
   "file_extension": ".py",
   "mimetype": "text/x-python",
   "name": "python",
   "nbconvert_exporter": "python",
   "pygments_lexer": "ipython3",
   "version": "3.9.7"
  },
  "orig_nbformat": 4
 },
 "nbformat": 4,
 "nbformat_minor": 2
}
